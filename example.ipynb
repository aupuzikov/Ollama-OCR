{
 "cells": [
  {
   "cell_type": "code",
   "execution_count": 1,
   "metadata": {},
   "outputs": [],
   "source": [
    "from ollama_ocr import OCRProcessor\n",
    "\n",
    "# Create an instance\n",
    "ocr = OCRProcessor(model_name='llama3.2-vision:11b')\n",
    "\n",
    "# Test with an image (replace with your image path)\n",
    "result = ocr.process_image(\n",
    "    image_path=\"input\\img.png\",\n",
    "    format_type=\"markdown\"\n",
    ")\n",
    "print(result)"
   ]
  },
  {
   "cell_type": "code",
   "execution_count": 3,
   "metadata": {},
   "outputs": [
    {
     "name": "stdout",
     "output_type": "stream",
     "text": [
      "Title: PDF - Wikipedia\n",
      "\n",
      "Subtitle: Portable Document Format (PDF)\n",
      "\n",
      "Body Text:\n",
      "Portable Document Format or PDF) standardized as ISO 32000 is a file format developed by Adobe in 1992 to present documents, including text formatting and images, in a manner independent of application software, hardware, and operating systems. Based on the PostScript language, each PDF file encodes a complete description of a fixed-layout flat document, including the text, fonts, vector graphics, raster images and other information needed to display it.\n",
      "\n",
      "PDF files may contain a variety of content besides plain text and graphics including logical structure or links in hypertext documents such as annotations on forms and fields; layers; rich media (including video), three-dimensional objects using U3D PRC, and various data formats. The PDF specification also provides for encryption and digital signatures, file attachments, and metadata to enable workflows requiring these features.\n",
      "\n",
      "Historical Note:\n",
      "The development of PDF began in 1991 when John Warnock wrote a paper for a project he named Camelot...Adobe Systems made the PDF speciﬁcation available free of charge in 1993. In the early years PDF was popularly used as desktop publishing workflows, and competed with several other formats including DjVu, Envoy, Common Ground Digital Paper, Farallon Replica and even Adobe’s own PostScript developer.\n",
      "\n",
      "Footer:\n",
      "History\n",
      "\n",
      "PDF File Specifications Table:\n",
      "Portable Document Format | Portable Document Format (PDF) standardised as ISO 32000 is a file format developed by Adobe in 1992 to present documents,\n",
      "including text formatting and images. In PDF files may contain a variety of content besides plain text and graphics including logical structure or links in hypertext\n",
      "documents such as annotations on forms, rich media (including video), three-dimensional objects using U3D PRC.\n",
      "\n",
      "History:\n",
      "The development of PDF began in 1991 when John Warnock wrote a paper for a project he named Camelot...Adobe Systems made the PDF speciﬁcation available free of charge\n",
      "in 1993. In the early years PDF was popularly used as desktop publishing workflows, and competed with several other formats including DjVu, Envoy, Common Ground Digital Paper,\n",
      "Farallon Replica.\n",
      "\n",
      "Document Information:\n",
      "PDF File Format | Type Code: %PDF (including a single trailing space)\n",
      "Uniform Type Identifier (UTI): com.adobe.pdf\n",
      "Magic Number: Adobe Inc. (1991-2008) ISO (2008=)\n",
      "\n",
      "Initial Release Date: June 15, 1993\n",
      "\n",
      "Latest Release:\n",
      "PDF File Extensions Application/pdf, .pdf,\n",
      "Application/x-zbpdf Application/xdraft,\n",
      "\n",
      "Extended to PDF/A, PDF/E, PDF/UA\n",
      "ISO 3200-2.\n",
      "\n",
      "URLs for More Information on the Document Format:\n",
      "\n",
      "https://en.wikipedia.org/wiki/PDF\n",
      "\n",
      "Page Number: 1/4\n",
      "**Title:** PDF - a proprietary format controlled by Adobe until it was released as an open standard on July 1, 2008, and published by the International Organization for Standardization as ISO 32000-1:2008\n",
      "\n",
      "**Subtitle:** Technical details\n",
      "\n",
      "**Body Text:**\n",
      "A PDF file is often a combination of vector graphics, text, and bitmap graphics. The basic types of content in a PDF are:\n",
      "\n",
      "- **Text type:** Vectorized text stored as content streams (i.e., not encoded in plain text)\n",
      "  - Including vector graphics for illustrations and designs that consist of shapes and lines\n",
      "  - Incl. raster graphics for photographs or other types of images; and\n",
      "\n",
      "- Other multimedia objects.\n",
      "\n",
      "In later PDF revisions, a PDF document can also support links inside documents or web pages), forms (JavaScript initially available as a plugin form for Acrobat 3.0); or any other type(s) embedded contents that can be handled using plug-ins).\n",
      "\n",
      "**Subtitle:** PostScript language\n",
      "A **PostScript page description programming language** in use since Adobe released it on July 1, 2008 and published by the International Organization for Standardization as ISO 32000-1:2008 at which time control of this specification passed to an ISO Committee. In December 2004, the first edition was available; in June 2005 Adobe released it with clarifications, corrections and critical updates.\n",
      "\n",
      "**Subtitle:** PDF Association\n",
      "In March 2017, the sixth version is provided that became ISO 32000-1:2008. In December 2020, was published with clarifications, corrections; and\n",
      "\n",
      "**Subtitle:** Adobe XML Forms Architecture (XFA)\n",
      "Adobe's extension for Acrobat.\n",
      "\n",
      "For PDF Association made ISO 32000-2 available free download on April in March of the same year as a normative reference.\n"
     ]
    }
   ],
   "source": [
    "pdf_result = ocr.process_pdf(\n",
    "    file_path=\"input/pdf.pdf\",\n",
    "    format_type=\"text\"\n",
    ")\n",
    "print(pdf_result)"
   ]
  },
  {
   "cell_type": "code",
   "execution_count": 2,
   "metadata": {},
   "outputs": [
    {
     "name": "stderr",
     "output_type": "stream",
     "text": [
      "Processing images:   0%|          | 0/2 [00:00<?, ?it/s]"
     ]
    },
    {
     "name": "stderr",
     "output_type": "stream",
     "text": [
      "Processing images: 100%|██████████| 2/2 [56:54<00:00, 1707.14s/it]\n"
     ]
    },
    {
     "name": "stdout",
     "output_type": "stream",
     "text": [
      "{'total': 2, 'successful': 2, 'failed': 0}\n"
     ]
    }
   ],
   "source": [
    "# Test batch processing\n",
    "batch_results = ocr.process_batch('input')\n",
    "print(batch_results['statistics'])"
   ]
  },
  {
   "cell_type": "code",
   "execution_count": 3,
   "metadata": {},
   "outputs": [
    {
     "name": "stdout",
     "output_type": "stream",
     "text": [
      "\n",
      "Processing Statistics:\n",
      "Total images: 2\n",
      "Successfully processed: 2\n",
      "Failed: 0\n"
     ]
    }
   ],
   "source": [
    "# Print statistics\n",
    "print(\"\\nProcessing Statistics:\")\n",
    "print(f\"Total images: {batch_results['statistics']['total']}\")\n",
    "print(f\"Successfully processed: {batch_results['statistics']['successful']}\")\n",
    "print(f\"Failed: {batch_results['statistics']['failed']}\")"
   ]
  },
  {
   "cell_type": "code",
   "execution_count": 6,
   "metadata": {},
   "outputs": [
    {
     "name": "stdout",
     "output_type": "stream",
     "text": [
      "\n",
      "File: input\\img.png\n",
      "--------------------------------------------------\n",
      "Extracted Text: **Invoice #1024**\n",
      "\n",
      "**Billed To:**\n",
      "Really Great Company\n",
      "\n",
      "**Pay To:**\n",
      "Avery Davis\n",
      "123 Anywhere St., Any City\n",
      "123-456-7890\n",
      "\n",
      "**Bank Information:**\n",
      "Really Great Bank\n",
      "Account Name: John Smith\n",
      "BSB: 000-000\n",
      "Account Number: 0000 0000\n",
      "\n",
      "**Description of Services:**\n",
      "\n",
      "*   **Content Plan:** $200.00\n",
      "*   **Copy Writing:** $100.00\n",
      "*   **Website Design:** $250.00\n",
      "*   **Website Development:** $500.00\n",
      "*   **SEO:** $200.00\n",
      "\n",
      "**Sub-Total:** $1,250.00 (30% discount applied)\n",
      "\n",
      "**Total:** $875.00\n",
      "\n",
      "**Payment Terms:**\n",
      "\n",
      "*   Payment is required within 14 business days of invoice date.\n",
      "*   Please send remittance to hello@reallygreatsite.com.\n",
      "\n",
      "**Thank You for Your Business**\n",
      "\n",
      "This invoice outlines the services provided by Really Great Company to Avery Davis, including content planning, copywriting, website design, website development, and SEO. The total amount due is $875.00, with a 30% discount applied to the sub-total of $1,250.00. Payment is required within 14 business days of invoice date, and remittances should be sent to hello@reallygreatsite.com.\n",
      "\n",
      "File: input\\img1.png\n",
      "--------------------------------------------------\n",
      "Extracted Text: **Summary**\n",
      "The image presents a passage of text that appears to be an excerpt from a literary work, possibly a poem or short story. The text is written in a formal, elegant style, with attention paid to sentence structure, word choice, and punctuation.\n",
      "\n",
      "**Text Content**\n",
      "\n",
      "*   **Date**: November 11 (presumably the date on which this passage was written)\n",
      "*   **Author's Name**: Ishmael (implied by the content of the passage, rather than explicitly stated)\n",
      "\n",
      "**Passage Content**\n",
      "The passage begins with a reflective tone, as if the author is reminiscing about past experiences or events. The text describes a person named Ishmael who has had little success in life and is now contemplating his place in the world. The author notes that they have not achieved much in terms of wealth or fame but are content with their current situation.\n",
      "\n",
      "The passage then shifts to a more introspective tone, as if the author is grappling with existential questions about the meaning of life. They express frustration at being unable to find purpose or direction and wonder whether it is possible for anyone to truly know what they want in life.\n",
      "\n",
      "Overall, this passage presents a thought-provoking exploration of themes such as identity, ambition, and self-discovery. Through the use of vivid imagery and philosophical musings, the author invites readers to consider their own values and priorities in light of Ishmael's experiences.\n",
      "\n",
      "**Language Features**\n",
      "The language used throughout the passage is characterized by:\n",
      "\n",
      "*   **Formal tone**: The text employs a formal, polished style that suggests it may be from an older work.\n",
      "*   **Elegant sentence structure**: Sentences are carefully crafted to convey complex ideas and emotions in a clear, concise manner.\n",
      "*   **Poetic language**: The use of metaphors (\"circumference of the skull\") and other literary devices adds depth and richness to the text.\n",
      "\n",
      "**Visual Features**\n",
      "The image itself is a simple scan of black text on a white background. There are no illustrations or graphics to distract from the focus on the written word.\n"
     ]
    }
   ],
   "source": [
    "# Get text from all successfully processed images\n",
    "for file_path, text in batch_results['results'].items():\n",
    "    print(f\"\\nFile: {file_path}\")\n",
    "    print(\"-\" * 50)\n",
    "    print(f\"Extracted Text: {text}\")\n",
    "\n"
   ]
  },
  {
   "cell_type": "code",
   "execution_count": 7,
   "metadata": {},
   "outputs": [],
   "source": [
    "# Check if there were any errors\n",
    "if batch_results['errors']:\n",
    "    print(\"\\nErrors:\")\n",
    "    for file_path, error in batch_results['errors'].items():\n",
    "        print(f\"Error in {file_path}: {error}\")"
   ]
  },
  {
   "cell_type": "code",
   "execution_count": null,
   "metadata": {},
   "outputs": [],
   "source": [
    "from ollama_ocr import OCRProcessor\n",
    "\n",
    "# Create an instance\n",
    "ocr = OCRProcessor(model_name='llama3.2-vision:11b')\n",
    "\n"
   ]
  },
  {
   "cell_type": "code",
   "execution_count": null,
   "metadata": {},
   "outputs": [],
   "source": [
    "# Test with key-value format\n",
    "result = ocr.process_image(\n",
    "    image_path=\"input\\img.png\",\n",
    "    format_type=\"key_value\"\n",
    ")\n",
    "print(result)"
   ]
  },
  {
   "cell_type": "code",
   "execution_count": null,
   "metadata": {},
   "outputs": [],
   "source": [
    "# Text\n",
    "result = ocr.process_image(\n",
    "    image_path=\"input\\img.png\",\n",
    "    format_type=\"text\"\n",
    ")\n",
    "print(result)"
   ]
  },
  {
   "cell_type": "code",
   "execution_count": null,
   "metadata": {},
   "outputs": [],
   "source": [
    "#  json format\n",
    "result = ocr.process_image(\n",
    "    image_path=\"input\\img.png\",\n",
    "    format_type=\"json\"\n",
    ")\n",
    "print(result)"
   ]
  },
  {
   "cell_type": "code",
   "execution_count": null,
   "metadata": {},
   "outputs": [],
   "source": [
    "#  structured format\n",
    "result = ocr.process_image(\n",
    "    image_path=\"input\\img.png\",\n",
    "    format_type=\"structured\"\n",
    ")\n",
    "print(result)"
   ]
  }
 ],
 "metadata": {
  "kernelspec": {
   "display_name": ".venv",
   "language": "python",
   "name": "python3"
  },
  "language_info": {
   "codemirror_mode": {
    "name": "ipython",
    "version": 3
   },
   "file_extension": ".py",
   "mimetype": "text/x-python",
   "name": "python",
   "nbconvert_exporter": "python",
   "pygments_lexer": "ipython3",
   "version": "3.11.0"
  }
 },
 "nbformat": 4,
 "nbformat_minor": 2
}
